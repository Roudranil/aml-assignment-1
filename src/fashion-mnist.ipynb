{
 "cells": [
  {
   "cell_type": "code",
   "execution_count": 19,
   "metadata": {},
   "outputs": [],
   "source": [
    "import numpy as np\n",
    "import pandas as pd\n",
    "import torch\n",
    "import torch.nn as nn\n",
    "from torch.utils.data import Dataset, DataLoader\n",
    "\n",
    "import matplotlib.pyplot as plt"
   ]
  },
  {
   "cell_type": "code",
   "execution_count": 2,
   "metadata": {},
   "outputs": [],
   "source": [
    "from tqdm import tqdm\n",
    "import os"
   ]
  },
  {
   "cell_type": "code",
   "execution_count": null,
   "metadata": {},
   "outputs": [],
   "source": [
    "BATCH_SIZE = 64\n",
    "EPOCHS = 0"
   ]
  },
  {
   "cell_type": "code",
   "execution_count": 5,
   "metadata": {},
   "outputs": [],
   "source": [
    "df = pd.read_csv(\"../data/fashion-mnist/fashion-mnist_test.csv\")"
   ]
  },
  {
   "cell_type": "code",
   "execution_count": 13,
   "metadata": {},
   "outputs": [],
   "source": [
    "class FashionMnist(Dataset):\n",
    "    def __init__(self, img_file, transform=None):\n",
    "        self.labels_map = {\n",
    "            0: \"T-Shirt\",\n",
    "            1: \"Trouser\",\n",
    "            2: \"Pullover\",\n",
    "            3: \"Dress\",\n",
    "            4: \"Coat\",\n",
    "            5: \"Sandal\",\n",
    "            6: \"Shirt\",\n",
    "            7: \"Sneaker\",\n",
    "            8: \"Bag\",\n",
    "            9: \"Ankle Boot\",\n",
    "        }\n",
    "        self.imgs = pd.read_csv(img_file)\n",
    "        self.labels = self.imgs[\"label\"]\n",
    "        self.imgs.drop(columns=[\"label\"], inplace=True)\n",
    "        self.transform = transform\n",
    "\n",
    "    def __len__(self):\n",
    "        return len(self.labels)\n",
    "\n",
    "    def __getitem__(self, index):\n",
    "        img = torch.tensor(self.imgs.loc[index, :]).view((28, 28))\n",
    "        if self.transform:\n",
    "            img = self.transform(img)\n",
    "        return img, self.labels_map[self.labels[index]]"
   ]
  },
  {
   "cell_type": "code",
   "execution_count": 14,
   "metadata": {},
   "outputs": [],
   "source": [
    "dataset = FashionMnist(\"../data/fashion-mnist/fashion-mnist_test.csv\")"
   ]
  },
  {
   "cell_type": "code",
   "execution_count": null,
   "metadata": {},
   "outputs": [],
   "source": []
  }
 ],
 "metadata": {
  "kernelspec": {
   "display_name": "ds",
   "language": "python",
   "name": "python3"
  },
  "language_info": {
   "codemirror_mode": {
    "name": "ipython",
    "version": 3
   },
   "file_extension": ".py",
   "mimetype": "text/x-python",
   "name": "python",
   "nbconvert_exporter": "python",
   "pygments_lexer": "ipython3",
   "version": "3.11.5"
  },
  "orig_nbformat": 4
 },
 "nbformat": 4,
 "nbformat_minor": 2
}
